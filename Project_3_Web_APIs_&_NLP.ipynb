{
 "cells": [
  {
   "cell_type": "markdown",
   "metadata": {},
   "source": [
    "# Project 3: Web APIs & NLP"
   ]
  },
  {
   "cell_type": "markdown",
   "metadata": {},
   "source": [
    "### By Alex Lau"
   ]
  },
  {
   "cell_type": "markdown",
   "metadata": {},
   "source": [
    "## Table of Contents"
   ]
  },
  {
   "cell_type": "markdown",
   "metadata": {},
   "source": [
    "- [Problem Statement](#Problem-Statement)\n",
    "- [Exploratory Data Analysis](#Exploratory-Data-Analysis)\n",
    "    - [Import Packages and Data](#Import-Packages-and-Data)\n",
    "    - [High-Level Checks](#High-Level-Checks)\n",
    "    - [Investigating Target Variable](#Investigating-Target-Variable)\n",
    "    - [Investigating Features](#Investigating-Features)\n",
    "    - [Visualizing Top 5 Features by Correlation](#Visualizing-Top-5-Features-by-Correlation)\n",
    "    - [Handling Outliers](#Handling-Outliers)\n",
    "- [Data Cleaning](#Data-Cleaning)\n",
    "    - [Converting Ordinal Features to Numbers](#Converting-Ordinal-Features-to-Numbers)\n",
    "    - [Inputting Missing Values: Nominal](#Inputting-Missing-Values:-Nominal)\n",
    "    - [Inputting Missing Values: Continuous](#Inpu`tting-Missing-Values:-Continuous)\n",
    "    - [Inputting Missing Values: Discrete](#Inputting-Missing-Values:-Discrete)\n",
    "- [Feature Engineering](#Feature-Engineering)\n",
    "    - [Dummy Variable Creation](#Dummy-Variable-Creation)\n",
    "    - [Interaction Variable Creation](#Interaction-Variable-Creation)\n",
    "    - [Ensuring Consistent Columns for Both Dataframes](#Ensuring-Consistent-Columns-for-Both-Dataframes)\n",
    "    - [Reviewing Correlations](#Reviewing-Correlations)\n",
    "- [Preprocessing](#Preprocessing)\n",
    "- [Modeling](#Modeling)\n",
    "    - [Logistic Regression](#Logistic-Regression)\n",
    "    - [Gaussian Naive Bayes](#Gaussian-Naive-Bayes)\n",
    "- [Conclusions and Evaluation](#Conclusions-and-Evaluation)"
   ]
  },
  {
   "cell_type": "markdown",
   "metadata": {},
   "source": [
    "## Problem Statement"
   ]
  },
  {
   "cell_type": "markdown",
   "metadata": {},
   "source": []
  },
  {
   "cell_type": "markdown",
   "metadata": {},
   "source": [
    "## Exploratory Data Analysis"
   ]
  },
  {
   "cell_type": "markdown",
   "metadata": {},
   "source": [
    "### Import Packages and Data"
   ]
  },
  {
   "cell_type": "code",
   "execution_count": 3,
   "metadata": {},
   "outputs": [],
   "source": [
    "# Import libaries\n",
    "import pandas as pd\n",
    "import numpy as np\n",
    "import requests\n",
    "import datetime as dt\n",
    "import time\n",
    "\n",
    "from bs4 import BeautifulSoup\n",
    "from sklearn.model_selection import train_test_split, GridSearchCV\n",
    "from sklearn.pipeline import Pipeline\n",
    "from sklearn.linear_model import LogisticRegression\n",
    "from sklearn.feature_extraction.text import CountVectorizer, TfidfVectorizer\n",
    "from sklearn.feature_extraction import stop_words\n",
    "from sklearn.naive_bayes import GaussianNB, MultinomialNB\n"
   ]
  },
  {
   "cell_type": "code",
   "execution_count": null,
   "metadata": {},
   "outputs": [],
   "source": [
    "## Save url as string\n",
    "BASE_URL = 'http://www.mediaeater.com/cameras/'\n",
    "com_board_1 = 'info/cb-01.html'\n",
    "\n",
    "url = BASE_URL + com_board_1"
   ]
  },
  {
   "cell_type": "code",
   "execution_count": null,
   "metadata": {},
   "outputs": [],
   "source": []
  },
  {
   "cell_type": "code",
   "execution_count": null,
   "metadata": {},
   "outputs": [],
   "source": []
  },
  {
   "cell_type": "markdown",
   "metadata": {},
   "source": [
    "## Data Cleaning"
   ]
  },
  {
   "cell_type": "code",
   "execution_count": null,
   "metadata": {},
   "outputs": [],
   "source": []
  },
  {
   "cell_type": "markdown",
   "metadata": {},
   "source": [
    "## Feature Engineering"
   ]
  },
  {
   "cell_type": "code",
   "execution_count": null,
   "metadata": {},
   "outputs": [],
   "source": []
  },
  {
   "cell_type": "markdown",
   "metadata": {},
   "source": [
    "## Modeling"
   ]
  },
  {
   "cell_type": "markdown",
   "metadata": {},
   "source": [
    "### Logistic Regression"
   ]
  },
  {
   "cell_type": "code",
   "execution_count": null,
   "metadata": {},
   "outputs": [],
   "source": []
  },
  {
   "cell_type": "markdown",
   "metadata": {},
   "source": [
    "### Gaussian Naive Bayes"
   ]
  },
  {
   "cell_type": "code",
   "execution_count": null,
   "metadata": {},
   "outputs": [],
   "source": []
  },
  {
   "cell_type": "markdown",
   "metadata": {},
   "source": [
    "## Conclusions and Evaluation"
   ]
  },
  {
   "cell_type": "code",
   "execution_count": null,
   "metadata": {},
   "outputs": [],
   "source": []
  }
 ],
 "metadata": {
  "kernelspec": {
   "display_name": "Python 3",
   "language": "python",
   "name": "python3"
  },
  "language_info": {
   "codemirror_mode": {
    "name": "ipython",
    "version": 3
   },
   "file_extension": ".py",
   "mimetype": "text/x-python",
   "name": "python",
   "nbconvert_exporter": "python",
   "pygments_lexer": "ipython3",
   "version": "3.7.5"
  }
 },
 "nbformat": 4,
 "nbformat_minor": 2
}
