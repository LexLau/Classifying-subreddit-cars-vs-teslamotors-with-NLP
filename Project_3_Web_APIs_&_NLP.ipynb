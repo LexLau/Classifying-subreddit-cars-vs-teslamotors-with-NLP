{
 "cells": [
  {
   "cell_type": "markdown",
   "metadata": {},
   "source": [
    "# Project 3: Web APIs & NLP"
   ]
  },
  {
   "cell_type": "markdown",
   "metadata": {},
   "source": [
    "### By Alex Lau"
   ]
  },
  {
   "cell_type": "markdown",
   "metadata": {},
   "source": [
    "## 1. Problem Statement"
   ]
  },
  {
   "cell_type": "markdown",
   "metadata": {},
   "source": [
    "Automobiles have progressed slowly over the last century. Most cars on the road today are still powered by gasoline, a non-renewable resource that pollutes the air and contributes to global warming. There is one manufacturer that is revolutionizing transportation with electric vehicles: Tesla Motors. We have decided to investigate subreddit titles from a popular American social news website, Reddit, to better understand the public sentiments surrounding Tesla. Our goal is to correctly classify the titles of posts as originating from subreddit 'cars' or 'teslamotors'. We plan to solve this problem using Logistic Regression and Multinomial Naive Bayes Classifier. Our models will be evaluated using Accuracy Scores. As Data Scientists of the 21st century, it is important that we leverage what we learn from this process to drive the population to transition to clean energy sources."
   ]
  },
  {
   "cell_type": "markdown",
   "metadata": {},
   "source": [
    "## 2. Executive Summary"
   ]
  },
  {
   "cell_type": "markdown",
   "metadata": {},
   "source": [
    "2-4 Paragraphs (NOT bullet points)\n",
    "\n",
    "__BROAD__ overview of workflow.\n",
    "- What did you start with _(What's your data? Where did you get it?)_\n",
    "- What did you do with it _(Brief overview of data cleaning and EDA process - don't get too into the weeds describing your cleaning)_\n",
    "- Process for finding best model\n",
    "\n",
    "Here's what I found. Here are some of the key takeaways and interesting findings. _(this should flow naturally into your conclusions & recommendations)_"
   ]
  },
  {
   "cell_type": "markdown",
   "metadata": {},
   "source": [
    "## 3. Table of Contents"
   ]
  },
  {
   "cell_type": "markdown",
   "metadata": {},
   "source": [
    "1. [Problem Statement](#1.-Problem-Statement)\n",
    "2. [Executive Summary](#2.-Executive-Summary)\n",
    "3. [Table of Contents](#3.-Table-of-Contents)\n",
    "4. [Loading Libraries & Data](#4.-Loading-Libraries-&-Data)\n",
    "5. [Web Scraping](#5.-Web-Scraping)\n",
    "6. [Exploratory Data Analysis (EDA)](#6.-Preliminary-EDA)\n",
    "7. [Data Cleaning](#7.-Data-Cleaning)\n",
    "8. [Model Preperation (Preprocessing)](#9.-Model-Preparation-(Preprocessing))\n",
    "9. [Modeling](#10-Modeling)\n",
    "    <br>9.1 [Baseline Model](#9.1-Baseline-Model)\n",
    "    <br>9.2 [Logistic Regression](#9.2-Logistic-Regression)\n",
    "    <br>9.3 [Gaussian Naive Bayes](#9.3-Gaussian-Naive-Bayes)\n",
    "10. [Model_Selection](#11.-Model-Selection)\n",
    "11. [Model Evaluation](#12.-Model-Evaluation)\n",
    "12. [Conclusions and Evaluation](#13.-Conclusions-and-Evaluation)"
   ]
  },
  {
   "cell_type": "markdown",
   "metadata": {},
   "source": [
    "## 4. Loading Libraries & Data"
   ]
  },
  {
   "cell_type": "code",
   "execution_count": 2,
   "metadata": {},
   "outputs": [],
   "source": [
    "# Import libaries\n",
    "import pandas as pd\n",
    "import numpy as np\n",
    "import requests\n",
    "import datetime as dt\n",
    "import time\n",
    "import regex as re\n",
    "import matplotlib.pyplot as plt\n",
    "import seaborn as sns\n",
    "\n",
    "from bs4 import BeautifulSoup\n",
    "from sklearn.model_selection import train_test_split, GridSearchCV\n",
    "from sklearn.pipeline import Pipeline\n",
    "from sklearn.linear_model import LogisticRegression\n",
    "from sklearn.feature_extraction.text import CountVectorizer, TfidfVectorizer\n",
    "from sklearn.feature_extraction import stop_words\n",
    "from sklearn.naive_bayes import GaussianNB, MultinomialNB\n",
    "from nltk import word_tokenize, ngrams\n",
    "from nltk.stem.porter import PorterStemmer\n",
    "from nltk.stem import WordNetLemmatizer\n",
    "from nltk import word_tokenize          "
   ]
  },
  {
   "cell_type": "markdown",
   "metadata": {},
   "source": [
    "## 5. Web Scraping"
   ]
  },
  {
   "cell_type": "code",
   "execution_count": 3,
   "metadata": {},
   "outputs": [],
   "source": [
    "# we're asking pushshift to engage with redit website\n",
    "def query_pushshift(subreddit, kind='submission', skip=30, times=5, \n",
    "                    subfield = ['title', 'selftext', 'subreddit', 'created_utc', 'author', 'num_comments', \n",
    "                                'score', 'is_self'],\n",
    "                    comfields = ['body', 'score', 'created_utc']):\n",
    "    stem = \"https://api.pushshift.io/reddit/search/{}/?subreddit={}&size=500\".format(kind, subreddit)\n",
    "    \n",
    "    mylist = []\n",
    "    \n",
    "    for x in range(1, times + 1):\n",
    "        \n",
    "        URL = \"{}&after={}d\".format(stem, skip * x)\n",
    "        print(URL)\n",
    "        response = requests.get(URL)\n",
    "        assert response.status_code == 200\n",
    "        mine = response.json()['data']\n",
    "        df = pd.DataFrame.from_dict(mine)\n",
    "        mylist.append(df)\n",
    "        time.sleep(2)\n",
    "        \n",
    "    full = pd.concat(mylist, sort=False)\n",
    "    \n",
    "    if kind == \"submission\":\n",
    "        \n",
    "        full = full[subfield]\n",
    "        \n",
    "        full = full.drop_duplicates()\n",
    "        \n",
    "        full = full.loc[full['is_self'] == True]\n",
    "        \n",
    "    def get_date(created):\n",
    "        return dt.date.fromtimestamp(created)\n",
    "    \n",
    "    _timestamp = full[\"created_utc\"].apply(get_date)\n",
    "    \n",
    "    full['timestamp'] = _timestamp\n",
    "    print(full.shape)\n",
    "    \n",
    "    return full "
   ]
  },
  {
   "cell_type": "code",
   "execution_count": 4,
   "metadata": {},
   "outputs": [
    {
     "name": "stdout",
     "output_type": "stream",
     "text": [
      "https://api.pushshift.io/reddit/search/submission/?subreddit=teslamotors&size=500&after=30d\n",
      "https://api.pushshift.io/reddit/search/submission/?subreddit=teslamotors&size=500&after=60d\n",
      "https://api.pushshift.io/reddit/search/submission/?subreddit=teslamotors&size=500&after=90d\n",
      "https://api.pushshift.io/reddit/search/submission/?subreddit=teslamotors&size=500&after=120d\n",
      "https://api.pushshift.io/reddit/search/submission/?subreddit=teslamotors&size=500&after=150d\n",
      "(1347, 9)\n"
     ]
    }
   ],
   "source": [
    "sub_1_query = query_pushshift('teslamotors')"
   ]
  },
  {
   "cell_type": "code",
   "execution_count": 5,
   "metadata": {},
   "outputs": [
    {
     "name": "stdout",
     "output_type": "stream",
     "text": [
      "https://api.pushshift.io/reddit/search/submission/?subreddit=cars&size=500&after=30d\n",
      "https://api.pushshift.io/reddit/search/submission/?subreddit=cars&size=500&after=60d\n",
      "https://api.pushshift.io/reddit/search/submission/?subreddit=cars&size=500&after=90d\n",
      "https://api.pushshift.io/reddit/search/submission/?subreddit=cars&size=500&after=120d\n",
      "https://api.pushshift.io/reddit/search/submission/?subreddit=cars&size=500&after=150d\n",
      "(1648, 9)\n"
     ]
    }
   ],
   "source": [
    "sub_2_query = query_pushshift('cars')"
   ]
  },
  {
   "cell_type": "code",
   "execution_count": 6,
   "metadata": {},
   "outputs": [],
   "source": [
    "combined_sub_queries = pd.concat([sub_1_query, sub_2_query])"
   ]
  },
  {
   "cell_type": "markdown",
   "metadata": {},
   "source": [
    "## 6. Exploratory Data Analysis"
   ]
  },
  {
   "cell_type": "code",
   "execution_count": 7,
   "metadata": {
    "scrolled": true
   },
   "outputs": [
    {
     "data": {
      "text/plain": [
       "(2995, 9)"
      ]
     },
     "execution_count": 7,
     "metadata": {},
     "output_type": "execute_result"
    }
   ],
   "source": [
    "combined_sub_queries.shape"
   ]
  },
  {
   "cell_type": "code",
   "execution_count": 8,
   "metadata": {},
   "outputs": [
    {
     "data": {
      "text/plain": [
       "title           object\n",
       "selftext        object\n",
       "subreddit       object\n",
       "created_utc      int64\n",
       "author          object\n",
       "num_comments     int64\n",
       "score            int64\n",
       "is_self           bool\n",
       "timestamp       object\n",
       "dtype: object"
      ]
     },
     "execution_count": 8,
     "metadata": {},
     "output_type": "execute_result"
    }
   ],
   "source": [
    "combined_sub_queries.dtypes"
   ]
  },
  {
   "cell_type": "code",
   "execution_count": 9,
   "metadata": {},
   "outputs": [
    {
     "data": {
      "text/html": [
       "<div>\n",
       "<style scoped>\n",
       "    .dataframe tbody tr th:only-of-type {\n",
       "        vertical-align: middle;\n",
       "    }\n",
       "\n",
       "    .dataframe tbody tr th {\n",
       "        vertical-align: top;\n",
       "    }\n",
       "\n",
       "    .dataframe thead th {\n",
       "        text-align: right;\n",
       "    }\n",
       "</style>\n",
       "<table border=\"1\" class=\"dataframe\">\n",
       "  <thead>\n",
       "    <tr style=\"text-align: right;\">\n",
       "      <th></th>\n",
       "      <th>title</th>\n",
       "      <th>selftext</th>\n",
       "      <th>subreddit</th>\n",
       "      <th>created_utc</th>\n",
       "      <th>author</th>\n",
       "      <th>num_comments</th>\n",
       "      <th>score</th>\n",
       "      <th>is_self</th>\n",
       "      <th>timestamp</th>\n",
       "    </tr>\n",
       "  </thead>\n",
       "  <tbody>\n",
       "    <tr>\n",
       "      <th>1</th>\n",
       "      <td>First long road trip with our Model 3! Some th...</td>\n",
       "      <td>We got our LR RWD Model 3 back in April 2018. ...</td>\n",
       "      <td>teslamotors</td>\n",
       "      <td>1577768864</td>\n",
       "      <td>LanFeusT23</td>\n",
       "      <td>132</td>\n",
       "      <td>1</td>\n",
       "      <td>True</td>\n",
       "      <td>2019-12-31</td>\n",
       "    </tr>\n",
       "    <tr>\n",
       "      <th>3</th>\n",
       "      <td>When do you file the 8936 EV tax credit form?</td>\n",
       "      <td>I picked up my Model 3 back in August this yea...</td>\n",
       "      <td>teslamotors</td>\n",
       "      <td>1577771949</td>\n",
       "      <td>isoplayer</td>\n",
       "      <td>0</td>\n",
       "      <td>1</td>\n",
       "      <td>True</td>\n",
       "      <td>2019-12-31</td>\n",
       "    </tr>\n",
       "    <tr>\n",
       "      <th>5</th>\n",
       "      <td>Model S Fender Flares</td>\n",
       "      <td>Hello! I hope this exceeds the Low Quality  po...</td>\n",
       "      <td>teslamotors</td>\n",
       "      <td>1577772342</td>\n",
       "      <td>IAmDarthMole</td>\n",
       "      <td>2</td>\n",
       "      <td>1</td>\n",
       "      <td>True</td>\n",
       "      <td>2019-12-31</td>\n",
       "    </tr>\n",
       "    <tr>\n",
       "      <th>8</th>\n",
       "      <td>Mar 4, 2019 Article - Tesla Shares Will Breach...</td>\n",
       "      <td>I saved this for posterity when it was posted,...</td>\n",
       "      <td>teslamotors</td>\n",
       "      <td>1577774293</td>\n",
       "      <td>rkeith5</td>\n",
       "      <td>46</td>\n",
       "      <td>1</td>\n",
       "      <td>True</td>\n",
       "      <td>2019-12-31</td>\n",
       "    </tr>\n",
       "    <tr>\n",
       "      <th>10</th>\n",
       "      <td>Can you buy Tesla Acceleration Update with Pay...</td>\n",
       "      <td>This is a pretty straightforward question. I g...</td>\n",
       "      <td>teslamotors</td>\n",
       "      <td>1577775193</td>\n",
       "      <td>longlivegreenearth</td>\n",
       "      <td>1</td>\n",
       "      <td>1</td>\n",
       "      <td>True</td>\n",
       "      <td>2019-12-31</td>\n",
       "    </tr>\n",
       "  </tbody>\n",
       "</table>\n",
       "</div>"
      ],
      "text/plain": [
       "                                                title  \\\n",
       "1   First long road trip with our Model 3! Some th...   \n",
       "3       When do you file the 8936 EV tax credit form?   \n",
       "5                               Model S Fender Flares   \n",
       "8   Mar 4, 2019 Article - Tesla Shares Will Breach...   \n",
       "10  Can you buy Tesla Acceleration Update with Pay...   \n",
       "\n",
       "                                             selftext    subreddit  \\\n",
       "1   We got our LR RWD Model 3 back in April 2018. ...  teslamotors   \n",
       "3   I picked up my Model 3 back in August this yea...  teslamotors   \n",
       "5   Hello! I hope this exceeds the Low Quality  po...  teslamotors   \n",
       "8   I saved this for posterity when it was posted,...  teslamotors   \n",
       "10  This is a pretty straightforward question. I g...  teslamotors   \n",
       "\n",
       "    created_utc              author  num_comments  score  is_self   timestamp  \n",
       "1    1577768864          LanFeusT23           132      1     True  2019-12-31  \n",
       "3    1577771949           isoplayer             0      1     True  2019-12-31  \n",
       "5    1577772342        IAmDarthMole             2      1     True  2019-12-31  \n",
       "8    1577774293             rkeith5            46      1     True  2019-12-31  \n",
       "10   1577775193  longlivegreenearth             1      1     True  2019-12-31  "
      ]
     },
     "execution_count": 9,
     "metadata": {},
     "output_type": "execute_result"
    }
   ],
   "source": [
    "combined_sub_queries.head()"
   ]
  },
  {
   "cell_type": "code",
   "execution_count": 10,
   "metadata": {},
   "outputs": [
    {
     "data": {
      "text/html": [
       "<div>\n",
       "<style scoped>\n",
       "    .dataframe tbody tr th:only-of-type {\n",
       "        vertical-align: middle;\n",
       "    }\n",
       "\n",
       "    .dataframe tbody tr th {\n",
       "        vertical-align: top;\n",
       "    }\n",
       "\n",
       "    .dataframe thead th {\n",
       "        text-align: right;\n",
       "    }\n",
       "</style>\n",
       "<table border=\"1\" class=\"dataframe\">\n",
       "  <thead>\n",
       "    <tr style=\"text-align: right;\">\n",
       "      <th></th>\n",
       "      <th>title</th>\n",
       "      <th>selftext</th>\n",
       "      <th>subreddit</th>\n",
       "      <th>created_utc</th>\n",
       "      <th>author</th>\n",
       "      <th>num_comments</th>\n",
       "      <th>score</th>\n",
       "      <th>is_self</th>\n",
       "      <th>timestamp</th>\n",
       "    </tr>\n",
       "  </thead>\n",
       "  <tbody>\n",
       "    <tr>\n",
       "      <th>490</th>\n",
       "      <td>How good is a GTR R34 2002 as a daily driver?</td>\n",
       "      <td>[removed]</td>\n",
       "      <td>cars</td>\n",
       "      <td>1567588357</td>\n",
       "      <td>Oeirs</td>\n",
       "      <td>3</td>\n",
       "      <td>1</td>\n",
       "      <td>True</td>\n",
       "      <td>2019-09-04</td>\n",
       "    </tr>\n",
       "    <tr>\n",
       "      <th>491</th>\n",
       "      <td>I don't want a 'normie' car.</td>\n",
       "      <td>I know this sounds pretentious as fuck, but I ...</td>\n",
       "      <td>cars</td>\n",
       "      <td>1567589149</td>\n",
       "      <td>Dyllbyll</td>\n",
       "      <td>38</td>\n",
       "      <td>0</td>\n",
       "      <td>True</td>\n",
       "      <td>2019-09-04</td>\n",
       "    </tr>\n",
       "    <tr>\n",
       "      <th>495</th>\n",
       "      <td>Need some help</td>\n",
       "      <td>[removed]</td>\n",
       "      <td>cars</td>\n",
       "      <td>1567591430</td>\n",
       "      <td>tbrits88</td>\n",
       "      <td>2</td>\n",
       "      <td>1</td>\n",
       "      <td>True</td>\n",
       "      <td>2019-09-04</td>\n",
       "    </tr>\n",
       "    <tr>\n",
       "      <th>497</th>\n",
       "      <td>Finally got my first dream car a 2013 Infiniti...</td>\n",
       "      <td>So I finally went out and got one of my first ...</td>\n",
       "      <td>cars</td>\n",
       "      <td>1567592222</td>\n",
       "      <td>NateT1015</td>\n",
       "      <td>0</td>\n",
       "      <td>1</td>\n",
       "      <td>True</td>\n",
       "      <td>2019-09-04</td>\n",
       "    </tr>\n",
       "    <tr>\n",
       "      <th>499</th>\n",
       "      <td>Reconditioned &amp;amp; used Range Rover Evoque En...</td>\n",
       "      <td>[removed]</td>\n",
       "      <td>cars</td>\n",
       "      <td>1567593458</td>\n",
       "      <td>DavidRonan</td>\n",
       "      <td>0</td>\n",
       "      <td>1</td>\n",
       "      <td>True</td>\n",
       "      <td>2019-09-04</td>\n",
       "    </tr>\n",
       "  </tbody>\n",
       "</table>\n",
       "</div>"
      ],
      "text/plain": [
       "                                                 title  \\\n",
       "490      How good is a GTR R34 2002 as a daily driver?   \n",
       "491                       I don't want a 'normie' car.   \n",
       "495                                     Need some help   \n",
       "497  Finally got my first dream car a 2013 Infiniti...   \n",
       "499  Reconditioned &amp; used Range Rover Evoque En...   \n",
       "\n",
       "                                              selftext subreddit  created_utc  \\\n",
       "490                                          [removed]      cars   1567588357   \n",
       "491  I know this sounds pretentious as fuck, but I ...      cars   1567589149   \n",
       "495                                          [removed]      cars   1567591430   \n",
       "497  So I finally went out and got one of my first ...      cars   1567592222   \n",
       "499                                          [removed]      cars   1567593458   \n",
       "\n",
       "         author  num_comments  score  is_self   timestamp  \n",
       "490       Oeirs             3      1     True  2019-09-04  \n",
       "491    Dyllbyll            38      0     True  2019-09-04  \n",
       "495    tbrits88             2      1     True  2019-09-04  \n",
       "497   NateT1015             0      1     True  2019-09-04  \n",
       "499  DavidRonan             0      1     True  2019-09-04  "
      ]
     },
     "execution_count": 10,
     "metadata": {},
     "output_type": "execute_result"
    }
   ],
   "source": [
    "combined_sub_queries.tail()"
   ]
  },
  {
   "cell_type": "code",
   "execution_count": 11,
   "metadata": {
    "scrolled": true
   },
   "outputs": [
    {
     "data": {
      "text/html": [
       "<div>\n",
       "<style scoped>\n",
       "    .dataframe tbody tr th:only-of-type {\n",
       "        vertical-align: middle;\n",
       "    }\n",
       "\n",
       "    .dataframe tbody tr th {\n",
       "        vertical-align: top;\n",
       "    }\n",
       "\n",
       "    .dataframe thead th {\n",
       "        text-align: right;\n",
       "    }\n",
       "</style>\n",
       "<table border=\"1\" class=\"dataframe\">\n",
       "  <thead>\n",
       "    <tr style=\"text-align: right;\">\n",
       "      <th></th>\n",
       "      <th>created_utc</th>\n",
       "      <th>num_comments</th>\n",
       "      <th>score</th>\n",
       "    </tr>\n",
       "  </thead>\n",
       "  <tbody>\n",
       "    <tr>\n",
       "      <th>count</th>\n",
       "      <td>2.995000e+03</td>\n",
       "      <td>2995.000000</td>\n",
       "      <td>2995.000000</td>\n",
       "    </tr>\n",
       "    <tr>\n",
       "      <th>mean</th>\n",
       "      <td>1.572771e+09</td>\n",
       "      <td>21.678798</td>\n",
       "      <td>13.059098</td>\n",
       "    </tr>\n",
       "    <tr>\n",
       "      <th>std</th>\n",
       "      <td>3.674337e+06</td>\n",
       "      <td>84.732975</td>\n",
       "      <td>137.760808</td>\n",
       "    </tr>\n",
       "    <tr>\n",
       "      <th>min</th>\n",
       "      <td>1.567397e+09</td>\n",
       "      <td>0.000000</td>\n",
       "      <td>0.000000</td>\n",
       "    </tr>\n",
       "    <tr>\n",
       "      <th>25%</th>\n",
       "      <td>1.570070e+09</td>\n",
       "      <td>0.000000</td>\n",
       "      <td>1.000000</td>\n",
       "    </tr>\n",
       "    <tr>\n",
       "      <th>50%</th>\n",
       "      <td>1.572735e+09</td>\n",
       "      <td>2.000000</td>\n",
       "      <td>1.000000</td>\n",
       "    </tr>\n",
       "    <tr>\n",
       "      <th>75%</th>\n",
       "      <td>1.575411e+09</td>\n",
       "      <td>15.000000</td>\n",
       "      <td>1.000000</td>\n",
       "    </tr>\n",
       "    <tr>\n",
       "      <th>max</th>\n",
       "      <td>1.578102e+09</td>\n",
       "      <td>2962.000000</td>\n",
       "      <td>5222.000000</td>\n",
       "    </tr>\n",
       "  </tbody>\n",
       "</table>\n",
       "</div>"
      ],
      "text/plain": [
       "        created_utc  num_comments        score\n",
       "count  2.995000e+03   2995.000000  2995.000000\n",
       "mean   1.572771e+09     21.678798    13.059098\n",
       "std    3.674337e+06     84.732975   137.760808\n",
       "min    1.567397e+09      0.000000     0.000000\n",
       "25%    1.570070e+09      0.000000     1.000000\n",
       "50%    1.572735e+09      2.000000     1.000000\n",
       "75%    1.575411e+09     15.000000     1.000000\n",
       "max    1.578102e+09   2962.000000  5222.000000"
      ]
     },
     "execution_count": 11,
     "metadata": {},
     "output_type": "execute_result"
    }
   ],
   "source": [
    "combined_sub_queries.describe()"
   ]
  },
  {
   "cell_type": "code",
   "execution_count": 12,
   "metadata": {
    "scrolled": false
   },
   "outputs": [
    {
     "data": {
      "text/plain": [
       "title            0\n",
       "selftext        19\n",
       "subreddit        0\n",
       "created_utc      0\n",
       "author           0\n",
       "num_comments     0\n",
       "score            0\n",
       "is_self          0\n",
       "timestamp        0\n",
       "dtype: int64"
      ]
     },
     "execution_count": 12,
     "metadata": {},
     "output_type": "execute_result"
    }
   ],
   "source": [
    "combined_sub_queries.isnull().sum()"
   ]
  },
  {
   "cell_type": "code",
   "execution_count": 13,
   "metadata": {},
   "outputs": [
    {
     "name": "stdout",
     "output_type": "stream",
     "text": [
      "<class 'pandas.core.frame.DataFrame'>\n",
      "Int64Index: 2995 entries, 1 to 499\n",
      "Data columns (total 9 columns):\n",
      "title           2995 non-null object\n",
      "selftext        2976 non-null object\n",
      "subreddit       2995 non-null object\n",
      "created_utc     2995 non-null int64\n",
      "author          2995 non-null object\n",
      "num_comments    2995 non-null int64\n",
      "score           2995 non-null int64\n",
      "is_self         2995 non-null bool\n",
      "timestamp       2995 non-null object\n",
      "dtypes: bool(1), int64(3), object(5)\n",
      "memory usage: 213.5+ KB\n"
     ]
    }
   ],
   "source": [
    "combined_sub_queries.info()"
   ]
  },
  {
   "cell_type": "code",
   "execution_count": 14,
   "metadata": {},
   "outputs": [
    {
     "data": {
      "text/plain": [
       "1       2177\n",
       "0        213\n",
       "2         77\n",
       "3         44\n",
       "5         40\n",
       "        ... \n",
       "57         1\n",
       "59         1\n",
       "61         1\n",
       "65         1\n",
       "4068       1\n",
       "Name: score, Length: 130, dtype: int64"
      ]
     },
     "execution_count": 14,
     "metadata": {},
     "output_type": "execute_result"
    }
   ],
   "source": [
    "combined_sub_queries['score'].value_counts()"
   ]
  },
  {
   "cell_type": "code",
   "execution_count": 15,
   "metadata": {
    "scrolled": true
   },
   "outputs": [
    {
     "data": {
      "text/html": [
       "<div>\n",
       "<style scoped>\n",
       "    .dataframe tbody tr th:only-of-type {\n",
       "        vertical-align: middle;\n",
       "    }\n",
       "\n",
       "    .dataframe tbody tr th {\n",
       "        vertical-align: top;\n",
       "    }\n",
       "\n",
       "    .dataframe thead th {\n",
       "        text-align: right;\n",
       "    }\n",
       "</style>\n",
       "<table border=\"1\" class=\"dataframe\">\n",
       "  <thead>\n",
       "    <tr style=\"text-align: right;\">\n",
       "      <th></th>\n",
       "      <th>title</th>\n",
       "      <th>selftext</th>\n",
       "      <th>subreddit</th>\n",
       "      <th>created_utc</th>\n",
       "      <th>author</th>\n",
       "      <th>num_comments</th>\n",
       "      <th>score</th>\n",
       "      <th>is_self</th>\n",
       "      <th>timestamp</th>\n",
       "    </tr>\n",
       "  </thead>\n",
       "  <tbody>\n",
       "    <tr>\n",
       "      <th>11</th>\n",
       "      <td>HW3 Upgrades</td>\n",
       "      <td>[removed]</td>\n",
       "      <td>teslamotors</td>\n",
       "      <td>1577775607</td>\n",
       "      <td>JohnAsHimself</td>\n",
       "      <td>0</td>\n",
       "      <td>1</td>\n",
       "      <td>True</td>\n",
       "      <td>2019-12-31</td>\n",
       "    </tr>\n",
       "    <tr>\n",
       "      <th>21</th>\n",
       "      <td>Garage door remote delete</td>\n",
       "      <td>[removed]</td>\n",
       "      <td>teslamotors</td>\n",
       "      <td>1577794040</td>\n",
       "      <td>Satyrr</td>\n",
       "      <td>0</td>\n",
       "      <td>1</td>\n",
       "      <td>True</td>\n",
       "      <td>2019-12-31</td>\n",
       "    </tr>\n",
       "    <tr>\n",
       "      <th>30</th>\n",
       "      <td>Tesla s screen responsiveness</td>\n",
       "      <td>[removed]</td>\n",
       "      <td>teslamotors</td>\n",
       "      <td>1577801800</td>\n",
       "      <td>nutteez</td>\n",
       "      <td>0</td>\n",
       "      <td>1</td>\n",
       "      <td>True</td>\n",
       "      <td>2019-12-31</td>\n",
       "    </tr>\n",
       "    <tr>\n",
       "      <th>31</th>\n",
       "      <td>I lost a Tesla bet so now I am paying up.</td>\n",
       "      <td>[removed]</td>\n",
       "      <td>teslamotors</td>\n",
       "      <td>1577803979</td>\n",
       "      <td>Brad_Wesley</td>\n",
       "      <td>28</td>\n",
       "      <td>1</td>\n",
       "      <td>True</td>\n",
       "      <td>2019-12-31</td>\n",
       "    </tr>\n",
       "    <tr>\n",
       "      <th>33</th>\n",
       "      <td>Hmm</td>\n",
       "      <td>[removed]</td>\n",
       "      <td>teslamotors</td>\n",
       "      <td>1577804855</td>\n",
       "      <td>Mako_sato_ftw</td>\n",
       "      <td>0</td>\n",
       "      <td>1</td>\n",
       "      <td>True</td>\n",
       "      <td>2019-12-31</td>\n",
       "    </tr>\n",
       "    <tr>\n",
       "      <th>...</th>\n",
       "      <td>...</td>\n",
       "      <td>...</td>\n",
       "      <td>...</td>\n",
       "      <td>...</td>\n",
       "      <td>...</td>\n",
       "      <td>...</td>\n",
       "      <td>...</td>\n",
       "      <td>...</td>\n",
       "      <td>...</td>\n",
       "    </tr>\n",
       "    <tr>\n",
       "      <th>484</th>\n",
       "      <td>How good is a Skyline GTR R34 2002 as a daily ...</td>\n",
       "      <td>[removed]</td>\n",
       "      <td>cars</td>\n",
       "      <td>1567586407</td>\n",
       "      <td>Oeirs</td>\n",
       "      <td>1</td>\n",
       "      <td>1</td>\n",
       "      <td>True</td>\n",
       "      <td>2019-09-04</td>\n",
       "    </tr>\n",
       "    <tr>\n",
       "      <th>485</th>\n",
       "      <td>[Serious] With infotainment being such an inte...</td>\n",
       "      <td>[removed]</td>\n",
       "      <td>cars</td>\n",
       "      <td>1567586518</td>\n",
       "      <td>NorCalAthlete</td>\n",
       "      <td>2</td>\n",
       "      <td>0</td>\n",
       "      <td>True</td>\n",
       "      <td>2019-09-04</td>\n",
       "    </tr>\n",
       "    <tr>\n",
       "      <th>490</th>\n",
       "      <td>How good is a GTR R34 2002 as a daily driver?</td>\n",
       "      <td>[removed]</td>\n",
       "      <td>cars</td>\n",
       "      <td>1567588357</td>\n",
       "      <td>Oeirs</td>\n",
       "      <td>3</td>\n",
       "      <td>1</td>\n",
       "      <td>True</td>\n",
       "      <td>2019-09-04</td>\n",
       "    </tr>\n",
       "    <tr>\n",
       "      <th>495</th>\n",
       "      <td>Need some help</td>\n",
       "      <td>[removed]</td>\n",
       "      <td>cars</td>\n",
       "      <td>1567591430</td>\n",
       "      <td>tbrits88</td>\n",
       "      <td>2</td>\n",
       "      <td>1</td>\n",
       "      <td>True</td>\n",
       "      <td>2019-09-04</td>\n",
       "    </tr>\n",
       "    <tr>\n",
       "      <th>499</th>\n",
       "      <td>Reconditioned &amp;amp; used Range Rover Evoque En...</td>\n",
       "      <td>[removed]</td>\n",
       "      <td>cars</td>\n",
       "      <td>1567593458</td>\n",
       "      <td>DavidRonan</td>\n",
       "      <td>0</td>\n",
       "      <td>1</td>\n",
       "      <td>True</td>\n",
       "      <td>2019-09-04</td>\n",
       "    </tr>\n",
       "  </tbody>\n",
       "</table>\n",
       "<p>1322 rows × 9 columns</p>\n",
       "</div>"
      ],
      "text/plain": [
       "                                                 title   selftext  \\\n",
       "11                                        HW3 Upgrades  [removed]   \n",
       "21                           Garage door remote delete  [removed]   \n",
       "30                       Tesla s screen responsiveness  [removed]   \n",
       "31           I lost a Tesla bet so now I am paying up.  [removed]   \n",
       "33                                                 Hmm  [removed]   \n",
       "..                                                 ...        ...   \n",
       "484  How good is a Skyline GTR R34 2002 as a daily ...  [removed]   \n",
       "485  [Serious] With infotainment being such an inte...  [removed]   \n",
       "490      How good is a GTR R34 2002 as a daily driver?  [removed]   \n",
       "495                                     Need some help  [removed]   \n",
       "499  Reconditioned &amp; used Range Rover Evoque En...  [removed]   \n",
       "\n",
       "       subreddit  created_utc         author  num_comments  score  is_self  \\\n",
       "11   teslamotors   1577775607  JohnAsHimself             0      1     True   \n",
       "21   teslamotors   1577794040         Satyrr             0      1     True   \n",
       "30   teslamotors   1577801800        nutteez             0      1     True   \n",
       "31   teslamotors   1577803979    Brad_Wesley            28      1     True   \n",
       "33   teslamotors   1577804855  Mako_sato_ftw             0      1     True   \n",
       "..           ...          ...            ...           ...    ...      ...   \n",
       "484         cars   1567586407          Oeirs             1      1     True   \n",
       "485         cars   1567586518  NorCalAthlete             2      0     True   \n",
       "490         cars   1567588357          Oeirs             3      1     True   \n",
       "495         cars   1567591430       tbrits88             2      1     True   \n",
       "499         cars   1567593458     DavidRonan             0      1     True   \n",
       "\n",
       "      timestamp  \n",
       "11   2019-12-31  \n",
       "21   2019-12-31  \n",
       "30   2019-12-31  \n",
       "31   2019-12-31  \n",
       "33   2019-12-31  \n",
       "..          ...  \n",
       "484  2019-09-04  \n",
       "485  2019-09-04  \n",
       "490  2019-09-04  \n",
       "495  2019-09-04  \n",
       "499  2019-09-04  \n",
       "\n",
       "[1322 rows x 9 columns]"
      ]
     },
     "execution_count": 15,
     "metadata": {},
     "output_type": "execute_result"
    }
   ],
   "source": [
    "combined_sub_queries[combined_sub_queries['selftext']=='[removed]']"
   ]
  },
  {
   "cell_type": "code",
   "execution_count": 16,
   "metadata": {
    "scrolled": true
   },
   "outputs": [
    {
     "data": {
      "text/html": [
       "<div>\n",
       "<style scoped>\n",
       "    .dataframe tbody tr th:only-of-type {\n",
       "        vertical-align: middle;\n",
       "    }\n",
       "\n",
       "    .dataframe tbody tr th {\n",
       "        vertical-align: top;\n",
       "    }\n",
       "\n",
       "    .dataframe thead th {\n",
       "        text-align: right;\n",
       "    }\n",
       "</style>\n",
       "<table border=\"1\" class=\"dataframe\">\n",
       "  <thead>\n",
       "    <tr style=\"text-align: right;\">\n",
       "      <th></th>\n",
       "      <th>created_utc</th>\n",
       "      <th>num_comments</th>\n",
       "      <th>score</th>\n",
       "      <th>is_self</th>\n",
       "    </tr>\n",
       "    <tr>\n",
       "      <th>subreddit</th>\n",
       "      <th></th>\n",
       "      <th></th>\n",
       "      <th></th>\n",
       "      <th></th>\n",
       "    </tr>\n",
       "  </thead>\n",
       "  <tbody>\n",
       "    <tr>\n",
       "      <th>cars</th>\n",
       "      <td>1.572672e+09</td>\n",
       "      <td>21.541262</td>\n",
       "      <td>11.408981</td>\n",
       "      <td>True</td>\n",
       "    </tr>\n",
       "    <tr>\n",
       "      <th>teslamotors</th>\n",
       "      <td>1.572892e+09</td>\n",
       "      <td>21.847068</td>\n",
       "      <td>15.077951</td>\n",
       "      <td>True</td>\n",
       "    </tr>\n",
       "  </tbody>\n",
       "</table>\n",
       "</div>"
      ],
      "text/plain": [
       "              created_utc  num_comments      score  is_self\n",
       "subreddit                                                  \n",
       "cars         1.572672e+09     21.541262  11.408981     True\n",
       "teslamotors  1.572892e+09     21.847068  15.077951     True"
      ]
     },
     "execution_count": 16,
     "metadata": {},
     "output_type": "execute_result"
    }
   ],
   "source": [
    "# consider using features where comments > 20?\n",
    "combined_sub_queries.groupby('subreddit').mean()"
   ]
  },
  {
   "cell_type": "code",
   "execution_count": 17,
   "metadata": {},
   "outputs": [],
   "source": [
    "# Split data up into X and y.\n",
    "X = combined_sub_queries['title']\n",
    "y = combined_sub_queries['subreddit'].map(lambda x: 1 if x == 'teslamotors' else 0)"
   ]
  },
  {
   "cell_type": "code",
   "execution_count": 18,
   "metadata": {},
   "outputs": [],
   "source": [
    "# Split dataa into training and testing sets.\n",
    "X_train, X_test, y_train, y_test = train_test_split(X, y, random_state=42, stratify=y)\n",
    "\n",
    "# Instantiate CountVectorizer.\n",
    "cv = CountVectorizer()\n",
    "\n",
    "# Fit CountVectorizer to training data.\n",
    "cv.fit(X_train)\n",
    "\n",
    "# Transform training and testing data based on the fit CountVectorizer.\n",
    "X_train_cv = cv.transform(X_train)\n",
    "X_test_cv = cv.transform(X_test)"
   ]
  },
  {
   "cell_type": "code",
   "execution_count": 19,
   "metadata": {},
   "outputs": [],
   "source": [
    "# Create a DataFrame with our words.\n",
    "words = pd.DataFrame(X_train_cv.todense(), columns=cv.get_feature_names())"
   ]
  },
  {
   "cell_type": "code",
   "execution_count": 20,
   "metadata": {},
   "outputs": [
    {
     "data": {
      "text/plain": [
       "000             13\n",
       "000rpm           1\n",
       "01               4\n",
       "02               4\n",
       "03               7\n",
       "                ..\n",
       "zero             1\n",
       "zonda            1\n",
       "zones            1\n",
       "zx4              1\n",
       "معلومه_بتهمك     1\n",
       "Length: 4192, dtype: int64"
      ]
     },
     "execution_count": 20,
     "metadata": {},
     "output_type": "execute_result"
    }
   ],
   "source": [
    "words.sum()"
   ]
  },
  {
   "cell_type": "code",
   "execution_count": 21,
   "metadata": {},
   "outputs": [
    {
     "data": {
      "text/plain": [
       "the      595\n",
       "to       480\n",
       "car      407\n",
       "for      312\n",
       "tesla    281\n",
       "in       281\n",
       "is       266\n",
       "and      262\n",
       "on       244\n",
       "of       229\n",
       "model    221\n",
       "my       197\n",
       "it       186\n",
       "what     181\n",
       "how      157\n",
       "with     151\n",
       "you      147\n",
       "or       114\n",
       "are      110\n",
       "cars     104\n",
       "dtype: int64"
      ]
     },
     "execution_count": 21,
     "metadata": {},
     "output_type": "execute_result"
    }
   ],
   "source": [
    "# Let's look at the most frequently used words.\n",
    "words.sum().sort_values(ascending=False).head(20)"
   ]
  },
  {
   "cell_type": "code",
   "execution_count": 22,
   "metadata": {},
   "outputs": [
    {
     "data": {
      "image/png": "[encoded data removed]",
      "text/plain": [
       "<Figure size 432x288 with 1 Axes>"
      ]
     },
     "metadata": {
      "needs_background": "light"
     },
     "output_type": "display_data"
    }
   ],
   "source": [
    "# Plot the lengths of the words.\n",
    "lengths_of_words = [len(each) for each in words.columns]\n",
    "fig, ax = plt.subplots()\n",
    "sns.distplot(lengths_of_words, ax=ax, kde = False)\n",
    "plt.title('Histogram of Word Lengths')\n",
    "plt.axvline(np.mean(lengths_of_words), 0,350, color = 'red')\n",
    "plt.axvline(np.median(lengths_of_words), 0,350, color = 'green')\n",
    "plt.ylabel('Frequency')\n",
    "plt.xlabel('Characters')\n",
    "ax.set_xlim(1,20)\n",
    "ax.set_xticks(range(1,20))\n",
    "plt.show();"
   ]
  },
  {
   "cell_type": "code",
   "execution_count": 23,
   "metadata": {
    "scrolled": true
   },
   "outputs": [
    {
     "data": {
      "image/png": "[encoded data removed]",
      "text/plain": [
       "<Figure size 432x288 with 1 Axes>"
      ]
     },
     "metadata": {
      "needs_background": "light"
     },
     "output_type": "display_data"
    }
   ],
   "source": [
    "# Plot the lengths of the posts.\n",
    "lengths_of_posts = [len(each) for each in X]\n",
    "fig, ax = plt.subplots()\n",
    "sns.distplot(lengths_of_posts, kde = False, bins = 30) #kde = False\n",
    "plt.title('Histogram of Title Lengths', size = 20)\n",
    "plt.axvline(np.mean(lengths_of_posts), 0,350, color = 'red')\n",
    "plt.axvline(np.median(lengths_of_posts), 0,350, color = 'green')\n",
    "plt.ylabel('Frequency', size = 15)\n",
    "plt.xlabel('Characters', size = 15)\n",
    "ax.set_xlim(1,300)\n",
    "ax.set_xticks(range(0, 300, 20))\n",
    "plt.show();"
   ]
  },
  {
   "cell_type": "code",
   "execution_count": 24,
   "metadata": {},
   "outputs": [
    {
     "data": {
      "text/plain": [
       "53.151919866444075"
      ]
     },
     "execution_count": 24,
     "metadata": {},
     "output_type": "execute_result"
    }
   ],
   "source": [
    "np.mean(lengths_of_posts)"
   ]
  },
  {
   "cell_type": "code",
   "execution_count": 25,
   "metadata": {},
   "outputs": [
    {
     "data": {
      "text/plain": [
       "44.0"
      ]
     },
     "execution_count": 25,
     "metadata": {},
     "output_type": "execute_result"
    }
   ],
   "source": [
    "np.median(lengths_of_posts)"
   ]
  },
  {
   "cell_type": "code",
   "execution_count": 26,
   "metadata": {},
   "outputs": [
    {
     "data": {
      "text/plain": [
       "cars           1648\n",
       "teslamotors    1347\n",
       "Name: subreddit, dtype: int64"
      ]
     },
     "execution_count": 26,
     "metadata": {},
     "output_type": "execute_result"
    }
   ],
   "source": [
    "combined_sub_queries['subreddit'].value_counts()"
   ]
  },
  {
   "cell_type": "markdown",
   "metadata": {},
   "source": [
    "## 7. Data Cleaning"
   ]
  },
  {
   "cell_type": "code",
   "execution_count": 27,
   "metadata": {},
   "outputs": [],
   "source": [
    "combined_sub_queries = combined_sub_queries.drop_duplicates()"
   ]
  },
  {
   "cell_type": "code",
   "execution_count": 28,
   "metadata": {},
   "outputs": [
    {
     "data": {
      "text/plain": [
       "cars           1648\n",
       "teslamotors    1347\n",
       "Name: subreddit, dtype: int64"
      ]
     },
     "execution_count": 28,
     "metadata": {},
     "output_type": "execute_result"
    }
   ],
   "source": [
    "combined_sub_queries['subreddit'].value_counts()"
   ]
  },
  {
   "cell_type": "code",
   "execution_count": 29,
   "metadata": {
    "scrolled": false
   },
   "outputs": [
    {
     "data": {
      "text/plain": [
       "selftext        19\n",
       "timestamp        0\n",
       "is_self          0\n",
       "score            0\n",
       "num_comments     0\n",
       "author           0\n",
       "created_utc      0\n",
       "subreddit        0\n",
       "title            0\n",
       "dtype: int64"
      ]
     },
     "execution_count": 29,
     "metadata": {},
     "output_type": "execute_result"
    }
   ],
   "source": [
    "combined_sub_queries.isnull().sum().sort_values(ascending = False)"
   ]
  },
  {
   "cell_type": "markdown",
   "metadata": {},
   "source": [
    "## 8. Model Preparation (Preprocessing)"
   ]
  },
  {
   "cell_type": "code",
   "execution_count": 30,
   "metadata": {},
   "outputs": [],
   "source": [
    "X = combined_sub_queries['title']\n",
    "y = combined_sub_queries['subreddit']"
   ]
  },
  {
   "cell_type": "code",
   "execution_count": 31,
   "metadata": {},
   "outputs": [],
   "source": [
    "X_train, X_test, y_train, y_test = train_test_split(X, y, stratify = y, random_state = 42)"
   ]
  },
  {
   "cell_type": "code",
   "execution_count": 32,
   "metadata": {},
   "outputs": [],
   "source": [
    "lemmatizer = WordNetLemmatizer()\n",
    "\n",
    "def lemmatizing_tokenizer(str_input):\n",
    "    tokens = re.sub(r\"[^A-Za-z0-9\\-]\", \" \", str_input).lower().split()\n",
    "    stems = [lemmatizer.lemmatize(word) for word in tokens]\n",
    "    return stems\n",
    "\n",
    "# following code found on https://scikit-learn.org/stable/modules/feature_extraction.html\n",
    "class LemmaTokenizer:\n",
    "    def __init__(self):\n",
    "        self.wnl = WordNetLemmatizer()\n",
    "    def __call__(self, doc):\n",
    "        return [self.wnl.lemmatize(t) for t in word_tokenize(doc)]\n",
    "    \n",
    "\n",
    "class StemTokenizer:\n",
    "    def __init__(self):\n",
    "        self.stemmer = PorterStemmer()\n",
    "    def __call__(self, doc):\n",
    "        return [self.stemmer.stem(t) for t in word_tokenize(doc)]"
   ]
  },
  {
   "cell_type": "markdown",
   "metadata": {},
   "source": [
    "## 9 Modeling"
   ]
  },
  {
   "cell_type": "markdown",
   "metadata": {},
   "source": [
    "### 9.1 Baseline Model"
   ]
  },
  {
   "cell_type": "markdown",
   "metadata": {},
   "source": [
    "Our baseline is __ (this value changes everytime I run the reddit script)"
   ]
  },
  {
   "cell_type": "code",
   "execution_count": 33,
   "metadata": {},
   "outputs": [
    {
     "data": {
      "text/plain": [
       "cars           0.55025\n",
       "teslamotors    0.44975\n",
       "Name: subreddit, dtype: float64"
      ]
     },
     "execution_count": 33,
     "metadata": {},
     "output_type": "execute_result"
    }
   ],
   "source": [
    "y.value_counts(normalize = True)"
   ]
  },
  {
   "cell_type": "markdown",
   "metadata": {},
   "source": [
    "### 9.2 Logistic Regression"
   ]
  },
  {
   "cell_type": "markdown",
   "metadata": {},
   "source": [
    "#### Count Vectorizer"
   ]
  },
  {
   "cell_type": "code",
   "execution_count": 46,
   "metadata": {},
   "outputs": [
    {
     "name": "stderr",
     "output_type": "stream",
     "text": [
      "C:\\Users\\16463\\AppData\\Local\\Continuum\\anaconda3\\envs\\dsi\\lib\\site-packages\\sklearn\\feature_extraction\\text.py:300: UserWarning: Your stop_words may be inconsistent with your preprocessing. Tokenizing the stop words generated tokens ['ha', 'le', 'u', 'wa'] not in stop_words.\n",
      "  'stop_words.' % sorted(inconsistent))\n",
      "C:\\Users\\16463\\AppData\\Local\\Continuum\\anaconda3\\envs\\dsi\\lib\\site-packages\\sklearn\\feature_extraction\\text.py:300: UserWarning: Your stop_words may be inconsistent with your preprocessing. Tokenizing the stop words generated tokens ['ha', 'le', 'u', 'wa'] not in stop_words.\n",
      "  'stop_words.' % sorted(inconsistent))\n",
      "C:\\Users\\16463\\AppData\\Local\\Continuum\\anaconda3\\envs\\dsi\\lib\\site-packages\\sklearn\\feature_extraction\\text.py:300: UserWarning: Your stop_words may be inconsistent with your preprocessing. Tokenizing the stop words generated tokens ['ha', 'le', 'u', 'wa'] not in stop_words.\n",
      "  'stop_words.' % sorted(inconsistent))\n",
      "C:\\Users\\16463\\AppData\\Local\\Continuum\\anaconda3\\envs\\dsi\\lib\\site-packages\\sklearn\\feature_extraction\\text.py:300: UserWarning: Your stop_words may be inconsistent with your preprocessing. Tokenizing the stop words generated tokens ['ha', 'le', 'u', 'wa'] not in stop_words.\n",
      "  'stop_words.' % sorted(inconsistent))\n",
      "C:\\Users\\16463\\AppData\\Local\\Continuum\\anaconda3\\envs\\dsi\\lib\\site-packages\\sklearn\\feature_extraction\\text.py:300: UserWarning: Your stop_words may be inconsistent with your preprocessing. Tokenizing the stop words generated tokens ['ha', 'le', 'u', 'wa'] not in stop_words.\n",
      "  'stop_words.' % sorted(inconsistent))\n",
      "C:\\Users\\16463\\AppData\\Local\\Continuum\\anaconda3\\envs\\dsi\\lib\\site-packages\\sklearn\\feature_extraction\\text.py:300: UserWarning: Your stop_words may be inconsistent with your preprocessing. Tokenizing the stop words generated tokens ['ha', 'le', 'u', 'wa'] not in stop_words.\n",
      "  'stop_words.' % sorted(inconsistent))\n",
      "C:\\Users\\16463\\AppData\\Local\\Continuum\\anaconda3\\envs\\dsi\\lib\\site-packages\\sklearn\\feature_extraction\\text.py:300: UserWarning: Your stop_words may be inconsistent with your preprocessing. Tokenizing the stop words generated tokens ['ha', 'le', 'u', 'wa'] not in stop_words.\n",
      "  'stop_words.' % sorted(inconsistent))\n",
      "C:\\Users\\16463\\AppData\\Local\\Continuum\\anaconda3\\envs\\dsi\\lib\\site-packages\\sklearn\\feature_extraction\\text.py:300: UserWarning: Your stop_words may be inconsistent with your preprocessing. Tokenizing the stop words generated tokens ['ha', 'le', 'u', 'wa'] not in stop_words.\n",
      "  'stop_words.' % sorted(inconsistent))\n",
      "C:\\Users\\16463\\AppData\\Local\\Continuum\\anaconda3\\envs\\dsi\\lib\\site-packages\\sklearn\\feature_extraction\\text.py:300: UserWarning: Your stop_words may be inconsistent with your preprocessing. Tokenizing the stop words generated tokens ['ha', 'le', 'u', 'wa'] not in stop_words.\n",
      "  'stop_words.' % sorted(inconsistent))\n",
      "C:\\Users\\16463\\AppData\\Local\\Continuum\\anaconda3\\envs\\dsi\\lib\\site-packages\\sklearn\\feature_extraction\\text.py:300: UserWarning: Your stop_words may be inconsistent with your preprocessing. Tokenizing the stop words generated tokens ['ha', 'le', 'u', 'wa'] not in stop_words.\n",
      "  'stop_words.' % sorted(inconsistent))\n",
      "C:\\Users\\16463\\AppData\\Local\\Continuum\\anaconda3\\envs\\dsi\\lib\\site-packages\\sklearn\\feature_extraction\\text.py:300: UserWarning: Your stop_words may be inconsistent with your preprocessing. Tokenizing the stop words generated tokens ['ha', 'le', 'u', 'wa'] not in stop_words.\n",
      "  'stop_words.' % sorted(inconsistent))\n"
     ]
    },
    {
     "name": "stdout",
     "output_type": "stream",
     "text": [
      "GridSearch score with CountVectorized features and Logistic Regression on training set is 0.9555.\n",
      "\n",
      "GridSearch score with CountVectorized features and Logistic Regression on testing set is 0.8652.\n"
     ]
    }
   ],
   "source": [
    "# Instantiate pipeline.  \n",
    "pipe_cv = Pipeline([\n",
    "    ('cv', CountVectorizer()), \n",
    "    ('lr', LogisticRegression())\n",
    "])\n",
    "\n",
    "# Define grid of parameters to GridSearch over.\n",
    "params_grid = {\n",
    "    'cv__tokenizer': [LemmaTokenizer()], # tried [StemTokenizer(), None] with lower accuracy test scores\n",
    "    'cv__max_features': [3950, 4000], # fine tuned to this max_features\n",
    "    'cv__stop_words': ['english'],\n",
    "    'cv__ngram_range': [(1,8)], # fine tuned to this ngram range\n",
    "    'lr__solver': ['lbfgs'] # ['liblinear', 'saga'] lower accuracy test scores\n",
    "}\n",
    "\n",
    "# GridSearch over pipeline with given grid of parameters.\n",
    "gs_cv = GridSearchCV(pipe_cv, params_grid, cv=5, scoring = 'accuracy')\n",
    "\n",
    "# Fit model.\n",
    "gs_cv.fit(X_train, y_train)\n",
    "\n",
    "print(f'GridSearch score with CountVectorized features and Logistic Regression on training set is {round(gs_cv.score(X_train, y_train), 4)}.')\n",
    "print()\n",
    "print(f'GridSearch score with CountVectorized features and Logistic Regression on testing set is {round(gs_cv.score(X_test, y_test), 4)}.')"
   ]
  },
  {
   "cell_type": "code",
   "execution_count": 47,
   "metadata": {},
   "outputs": [
    {
     "data": {
      "text/plain": [
       "Pipeline(memory=None,\n",
       "         steps=[('cv',\n",
       "                 CountVectorizer(analyzer='word', binary=False,\n",
       "                                 decode_error='strict',\n",
       "                                 dtype=<class 'numpy.int64'>, encoding='utf-8',\n",
       "                                 input='content', lowercase=True, max_df=1.0,\n",
       "                                 max_features=3950, min_df=1,\n",
       "                                 ngram_range=(1, 8), preprocessor=None,\n",
       "                                 stop_words='english', strip_accents=None,\n",
       "                                 token_pattern='(?u)\\\\b\\\\w\\\\w+\\\\b',\n",
       "                                 tokenizer=<__main__.LemmaTokenizer object at 0x000001E2461BE308>,\n",
       "                                 vocabulary=None)),\n",
       "                ('lr',\n",
       "                 LogisticRegression(C=1.0, class_weight=None, dual=False,\n",
       "                                    fit_intercept=True, intercept_scaling=1,\n",
       "                                    l1_ratio=None, max_iter=100,\n",
       "                                    multi_class='warn', n_jobs=None,\n",
       "                                    penalty='l2', random_state=None,\n",
       "                                    solver='lbfgs', tol=0.0001, verbose=0,\n",
       "                                    warm_start=False))],\n",
       "         verbose=False)"
      ]
     },
     "execution_count": 47,
     "metadata": {},
     "output_type": "execute_result"
    }
   ],
   "source": [
    "gs_cv.best_estimator_"
   ]
  },
  {
   "cell_type": "code",
   "execution_count": 48,
   "metadata": {
    "scrolled": true
   },
   "outputs": [
    {
     "data": {
      "text/plain": [
       "{'cv__max_features': 3950,\n",
       " 'cv__ngram_range': (1, 8),\n",
       " 'cv__stop_words': 'english',\n",
       " 'cv__tokenizer': <__main__.LemmaTokenizer at 0x1e2461be308>,\n",
       " 'lr__solver': 'lbfgs'}"
      ]
     },
     "execution_count": 48,
     "metadata": {},
     "output_type": "execute_result"
    }
   ],
   "source": [
    "gs_cv.best_params_"
   ]
  },
  {
   "cell_type": "markdown",
   "metadata": {},
   "source": [
    "#### TFIDF"
   ]
  },
  {
   "cell_type": "code",
   "execution_count": 43,
   "metadata": {},
   "outputs": [
    {
     "name": "stderr",
     "output_type": "stream",
     "text": [
      "C:\\Users\\16463\\AppData\\Local\\Continuum\\anaconda3\\envs\\dsi\\lib\\site-packages\\sklearn\\feature_extraction\\text.py:300: UserWarning: Your stop_words may be inconsistent with your preprocessing. Tokenizing the stop words generated tokens ['ha', 'le', 'u', 'wa'] not in stop_words.\n",
      "  'stop_words.' % sorted(inconsistent))\n",
      "C:\\Users\\16463\\AppData\\Local\\Continuum\\anaconda3\\envs\\dsi\\lib\\site-packages\\sklearn\\feature_extraction\\text.py:300: UserWarning: Your stop_words may be inconsistent with your preprocessing. Tokenizing the stop words generated tokens ['ha', 'le', 'u', 'wa'] not in stop_words.\n",
      "  'stop_words.' % sorted(inconsistent))\n",
      "C:\\Users\\16463\\AppData\\Local\\Continuum\\anaconda3\\envs\\dsi\\lib\\site-packages\\sklearn\\feature_extraction\\text.py:300: UserWarning: Your stop_words may be inconsistent with your preprocessing. Tokenizing the stop words generated tokens ['ha', 'le', 'u', 'wa'] not in stop_words.\n",
      "  'stop_words.' % sorted(inconsistent))\n",
      "C:\\Users\\16463\\AppData\\Local\\Continuum\\anaconda3\\envs\\dsi\\lib\\site-packages\\sklearn\\feature_extraction\\text.py:300: UserWarning: Your stop_words may be inconsistent with your preprocessing. Tokenizing the stop words generated tokens ['ha', 'le', 'u', 'wa'] not in stop_words.\n",
      "  'stop_words.' % sorted(inconsistent))\n",
      "C:\\Users\\16463\\AppData\\Local\\Continuum\\anaconda3\\envs\\dsi\\lib\\site-packages\\sklearn\\feature_extraction\\text.py:300: UserWarning: Your stop_words may be inconsistent with your preprocessing. Tokenizing the stop words generated tokens ['ha', 'le', 'u', 'wa'] not in stop_words.\n",
      "  'stop_words.' % sorted(inconsistent))\n",
      "C:\\Users\\16463\\AppData\\Local\\Continuum\\anaconda3\\envs\\dsi\\lib\\site-packages\\sklearn\\feature_extraction\\text.py:300: UserWarning: Your stop_words may be inconsistent with your preprocessing. Tokenizing the stop words generated tokens ['ha', 'le', 'u', 'wa'] not in stop_words.\n",
      "  'stop_words.' % sorted(inconsistent))\n",
      "C:\\Users\\16463\\AppData\\Local\\Continuum\\anaconda3\\envs\\dsi\\lib\\site-packages\\sklearn\\feature_extraction\\text.py:300: UserWarning: Your stop_words may be inconsistent with your preprocessing. Tokenizing the stop words generated tokens ['ha', 'le', 'u', 'wa'] not in stop_words.\n",
      "  'stop_words.' % sorted(inconsistent))\n",
      "C:\\Users\\16463\\AppData\\Local\\Continuum\\anaconda3\\envs\\dsi\\lib\\site-packages\\sklearn\\feature_extraction\\text.py:300: UserWarning: Your stop_words may be inconsistent with your preprocessing. Tokenizing the stop words generated tokens ['ha', 'le', 'u', 'wa'] not in stop_words.\n",
      "  'stop_words.' % sorted(inconsistent))\n",
      "C:\\Users\\16463\\AppData\\Local\\Continuum\\anaconda3\\envs\\dsi\\lib\\site-packages\\sklearn\\feature_extraction\\text.py:300: UserWarning: Your stop_words may be inconsistent with your preprocessing. Tokenizing the stop words generated tokens ['ha', 'le', 'u', 'wa'] not in stop_words.\n",
      "  'stop_words.' % sorted(inconsistent))\n",
      "C:\\Users\\16463\\AppData\\Local\\Continuum\\anaconda3\\envs\\dsi\\lib\\site-packages\\sklearn\\feature_extraction\\text.py:300: UserWarning: Your stop_words may be inconsistent with your preprocessing. Tokenizing the stop words generated tokens ['ha', 'le', 'u', 'wa'] not in stop_words.\n",
      "  'stop_words.' % sorted(inconsistent))\n",
      "C:\\Users\\16463\\AppData\\Local\\Continuum\\anaconda3\\envs\\dsi\\lib\\site-packages\\sklearn\\feature_extraction\\text.py:300: UserWarning: Your stop_words may be inconsistent with your preprocessing. Tokenizing the stop words generated tokens ['ha', 'le', 'u', 'wa'] not in stop_words.\n",
      "  'stop_words.' % sorted(inconsistent))\n",
      "C:\\Users\\16463\\AppData\\Local\\Continuum\\anaconda3\\envs\\dsi\\lib\\site-packages\\sklearn\\feature_extraction\\text.py:300: UserWarning: Your stop_words may be inconsistent with your preprocessing. Tokenizing the stop words generated tokens ['ha', 'le', 'u', 'wa'] not in stop_words.\n",
      "  'stop_words.' % sorted(inconsistent))\n",
      "C:\\Users\\16463\\AppData\\Local\\Continuum\\anaconda3\\envs\\dsi\\lib\\site-packages\\sklearn\\feature_extraction\\text.py:300: UserWarning: Your stop_words may be inconsistent with your preprocessing. Tokenizing the stop words generated tokens ['ha', 'le', 'u', 'wa'] not in stop_words.\n",
      "  'stop_words.' % sorted(inconsistent))\n",
      "C:\\Users\\16463\\AppData\\Local\\Continuum\\anaconda3\\envs\\dsi\\lib\\site-packages\\sklearn\\feature_extraction\\text.py:300: UserWarning: Your stop_words may be inconsistent with your preprocessing. Tokenizing the stop words generated tokens ['ha', 'le', 'u', 'wa'] not in stop_words.\n",
      "  'stop_words.' % sorted(inconsistent))\n",
      "C:\\Users\\16463\\AppData\\Local\\Continuum\\anaconda3\\envs\\dsi\\lib\\site-packages\\sklearn\\feature_extraction\\text.py:300: UserWarning: Your stop_words may be inconsistent with your preprocessing. Tokenizing the stop words generated tokens ['ha', 'le', 'u', 'wa'] not in stop_words.\n",
      "  'stop_words.' % sorted(inconsistent))\n",
      "C:\\Users\\16463\\AppData\\Local\\Continuum\\anaconda3\\envs\\dsi\\lib\\site-packages\\sklearn\\feature_extraction\\text.py:300: UserWarning: Your stop_words may be inconsistent with your preprocessing. Tokenizing the stop words generated tokens ['ha', 'le', 'u', 'wa'] not in stop_words.\n",
      "  'stop_words.' % sorted(inconsistent))\n"
     ]
    },
    {
     "name": "stdout",
     "output_type": "stream",
     "text": [
      "GridSearch score with TF-IDF Vectorized features on training set is 0.943.\n",
      "\n",
      "GridSearch score with TF-IDF Vectorized features on testing set is 0.8745.\n"
     ]
    }
   ],
   "source": [
    "# Define Pipeline - TFIDF\n",
    "pipe_tfidf = Pipeline(steps = [('tfidfvec', TfidfVectorizer()),     # first tuple is for first step: vectorizer\n",
    "                         ('lr', LogisticRegression())        # second tuple is for second step: model\n",
    "                        ])    \n",
    "\n",
    "# Construct Grid Parameters\n",
    "hyperparams_grid = {\n",
    "                'tfidfvec__tokenizer': [LemmaTokenizer()], #StemTokenizer(), None\n",
    "                'tfidfvec__max_features': [4470],\n",
    "                'tfidfvec__ngram_range': [(1,8)],\n",
    "                'tfidfvec__stop_words': ['english'],\n",
    "                'lr__solver': ['saga'] # 'lbfgs', 'liblinear',\n",
    "}\n",
    "\n",
    "# Perform Grid Search\n",
    "gs_tfidf = GridSearchCV(pipe_tfidf, # pipeline object replaces what we usually had as empty model class\n",
    "                 param_grid=hyperparams_grid,\n",
    "                 cv = 5,\n",
    "                 scoring = 'accuracy')\n",
    "\n",
    "gs_tfidf.fit(X_train, y_train)\n",
    "\n",
    "# Get best params\n",
    "print(f'GridSearch score with TF-IDF Vectorized features on training set is {round(gs_tfidf.score(X_train, y_train), 4)}.')\n",
    "print()\n",
    "print(f'GridSearch score with TF-IDF Vectorized features on testing set is {round(gs_tfidf.score(X_test, y_test), 4)}.')\n"
   ]
  },
  {
   "cell_type": "code",
   "execution_count": 44,
   "metadata": {},
   "outputs": [
    {
     "data": {
      "text/plain": [
       "{'lr__solver': 'saga',\n",
       " 'tfidfvec__max_features': 4470,\n",
       " 'tfidfvec__ngram_range': (1, 8),\n",
       " 'tfidfvec__stop_words': 'english',\n",
       " 'tfidfvec__tokenizer': <__main__.LemmaTokenizer at 0x1e245706d48>}"
      ]
     },
     "execution_count": 44,
     "metadata": {},
     "output_type": "execute_result"
    }
   ],
   "source": [
    "gs_tfidf.best_params_"
   ]
  },
  {
   "cell_type": "code",
   "execution_count": 45,
   "metadata": {},
   "outputs": [
    {
     "data": {
      "text/plain": [
       "Pipeline(memory=None,\n",
       "         steps=[('tfidfvec',\n",
       "                 TfidfVectorizer(analyzer='word', binary=False,\n",
       "                                 decode_error='strict',\n",
       "                                 dtype=<class 'numpy.float64'>,\n",
       "                                 encoding='utf-8', input='content',\n",
       "                                 lowercase=True, max_df=1.0, max_features=4470,\n",
       "                                 min_df=1, ngram_range=(1, 8), norm='l2',\n",
       "                                 preprocessor=None, smooth_idf=True,\n",
       "                                 stop_words='english', strip_accents=None,\n",
       "                                 sublinear_tf=False,\n",
       "                                 token_p...\n",
       "                                 tokenizer=<__main__.LemmaTokenizer object at 0x000001E245706D48>,\n",
       "                                 use_idf=True, vocabulary=None)),\n",
       "                ('lr',\n",
       "                 LogisticRegression(C=1.0, class_weight=None, dual=False,\n",
       "                                    fit_intercept=True, intercept_scaling=1,\n",
       "                                    l1_ratio=None, max_iter=100,\n",
       "                                    multi_class='warn', n_jobs=None,\n",
       "                                    penalty='l2', random_state=None,\n",
       "                                    solver='saga', tol=0.0001, verbose=0,\n",
       "                                    warm_start=False))],\n",
       "         verbose=False)"
      ]
     },
     "execution_count": 45,
     "metadata": {},
     "output_type": "execute_result"
    }
   ],
   "source": [
    "gs_tfidf.best_estimator_"
   ]
  },
  {
   "cell_type": "markdown",
   "metadata": {},
   "source": [
    "### 9.3 Gaussian Naive Bayes"
   ]
  },
  {
   "cell_type": "markdown",
   "metadata": {},
   "source": [
    "#### Mutlinomial"
   ]
  },
  {
   "cell_type": "code",
   "execution_count": 71,
   "metadata": {
    "scrolled": false
   },
   "outputs": [
    {
     "name": "stderr",
     "output_type": "stream",
     "text": [
      "C:\\Users\\16463\\AppData\\Local\\Continuum\\anaconda3\\envs\\dsi\\lib\\site-packages\\sklearn\\feature_extraction\\text.py:300: UserWarning: Your stop_words may be inconsistent with your preprocessing. Tokenizing the stop words generated tokens ['ha', 'le', 'u', 'wa'] not in stop_words.\n",
      "  'stop_words.' % sorted(inconsistent))\n",
      "C:\\Users\\16463\\AppData\\Local\\Continuum\\anaconda3\\envs\\dsi\\lib\\site-packages\\sklearn\\feature_extraction\\text.py:300: UserWarning: Your stop_words may be inconsistent with your preprocessing. Tokenizing the stop words generated tokens ['ha', 'le', 'u', 'wa'] not in stop_words.\n",
      "  'stop_words.' % sorted(inconsistent))\n",
      "C:\\Users\\16463\\AppData\\Local\\Continuum\\anaconda3\\envs\\dsi\\lib\\site-packages\\sklearn\\feature_extraction\\text.py:300: UserWarning: Your stop_words may be inconsistent with your preprocessing. Tokenizing the stop words generated tokens ['ha', 'le', 'u', 'wa'] not in stop_words.\n",
      "  'stop_words.' % sorted(inconsistent))\n",
      "C:\\Users\\16463\\AppData\\Local\\Continuum\\anaconda3\\envs\\dsi\\lib\\site-packages\\sklearn\\feature_extraction\\text.py:300: UserWarning: Your stop_words may be inconsistent with your preprocessing. Tokenizing the stop words generated tokens ['ha', 'le', 'u', 'wa'] not in stop_words.\n",
      "  'stop_words.' % sorted(inconsistent))\n",
      "C:\\Users\\16463\\AppData\\Local\\Continuum\\anaconda3\\envs\\dsi\\lib\\site-packages\\sklearn\\feature_extraction\\text.py:300: UserWarning: Your stop_words may be inconsistent with your preprocessing. Tokenizing the stop words generated tokens ['ha', 'le', 'u', 'wa'] not in stop_words.\n",
      "  'stop_words.' % sorted(inconsistent))\n",
      "C:\\Users\\16463\\AppData\\Local\\Continuum\\anaconda3\\envs\\dsi\\lib\\site-packages\\sklearn\\feature_extraction\\text.py:300: UserWarning: Your stop_words may be inconsistent with your preprocessing. Tokenizing the stop words generated tokens ['ha', 'le', 'u', 'wa'] not in stop_words.\n",
      "  'stop_words.' % sorted(inconsistent))\n"
     ]
    },
    {
     "name": "stdout",
     "output_type": "stream",
     "text": [
      "GridSearch score with CountVectorized features and Multinomial Naive Bayes Classifier on training set is 0.9323.\n",
      "\n",
      "GridSearch score with CountVectorized features and Multinomial Naive Bayes Classifier on testing set is 0.8718.\n"
     ]
    }
   ],
   "source": [
    "# Instantiate pipeline.  \n",
    "pipe_mnb = Pipeline([\n",
    "    ('cv', CountVectorizer()), \n",
    "    ('mnb', MultinomialNB())\n",
    "])\n",
    "\n",
    "# Define grid of parameters to GridSearch over.\n",
    "params_grid = {\n",
    "    'cv__tokenizer': [LemmaTokenizer()], # tried [StemTokenizer(), None] with lower accuracy test scores\n",
    "    'cv__max_features': [3975], # fine tuned to this max_features\n",
    "    'cv__stop_words': ['english'],\n",
    "    'cv__ngram_range': [(1,8)], # fine tuned to this ngram range\n",
    "    'mnb__alpha': [1]\n",
    "}\n",
    "\n",
    "# GridSearch over pipeline with given grid of parameters.\n",
    "gs_mnb = GridSearchCV(pipe_mnb, params_grid, cv=5, scoring = 'accuracy')\n",
    "\n",
    "# Fit model.\n",
    "gs_mnb.fit(X_train, y_train)\n",
    "\n",
    "print(f'GridSearch score with CountVectorized features and Multinomial Naive Bayes Classifier on training set is {round(gs_mnb.score(X_train, y_train), 4)}.')\n",
    "print()\n",
    "print(f'GridSearch score with CountVectorized features and Multinomial Naive Bayes Classifier on testing set is {round(gs_mnb.score(X_test, y_test), 4)}.')"
   ]
  },
  {
   "cell_type": "code",
   "execution_count": 72,
   "metadata": {
    "scrolled": true
   },
   "outputs": [
    {
     "data": {
      "text/plain": [
       "{'cv__max_features': 3975,\n",
       " 'cv__ngram_range': (1, 8),\n",
       " 'cv__stop_words': 'english',\n",
       " 'cv__tokenizer': <__main__.LemmaTokenizer at 0x1e2470f1d48>,\n",
       " 'mnb__alpha': 1}"
      ]
     },
     "execution_count": 72,
     "metadata": {},
     "output_type": "execute_result"
    }
   ],
   "source": [
    "gs_mnb.best_params_"
   ]
  },
  {
   "cell_type": "code",
   "execution_count": 74,
   "metadata": {},
   "outputs": [
    {
     "data": {
      "text/plain": [
       "Pipeline(memory=None,\n",
       "         steps=[('cv',\n",
       "                 CountVectorizer(analyzer='word', binary=False,\n",
       "                                 decode_error='strict',\n",
       "                                 dtype=<class 'numpy.int64'>, encoding='utf-8',\n",
       "                                 input='content', lowercase=True, max_df=1.0,\n",
       "                                 max_features=3975, min_df=1,\n",
       "                                 ngram_range=(1, 8), preprocessor=None,\n",
       "                                 stop_words='english', strip_accents=None,\n",
       "                                 token_pattern='(?u)\\\\b\\\\w\\\\w+\\\\b',\n",
       "                                 tokenizer=<__main__.LemmaTokenizer object at 0x000001E2470F1D48>,\n",
       "                                 vocabulary=None)),\n",
       "                ('mnb',\n",
       "                 MultinomialNB(alpha=1, class_prior=None, fit_prior=True))],\n",
       "         verbose=False)"
      ]
     },
     "execution_count": 74,
     "metadata": {},
     "output_type": "execute_result"
    }
   ],
   "source": [
    "gs_mnb.best_estimator_"
   ]
  },
  {
   "cell_type": "markdown",
   "metadata": {},
   "source": [
    "#### Gaussian Naive Bayes"
   ]
  },
  {
   "cell_type": "code",
   "execution_count": 97,
   "metadata": {},
   "outputs": [
    {
     "name": "stderr",
     "output_type": "stream",
     "text": [
      "C:\\Users\\16463\\AppData\\Local\\Continuum\\anaconda3\\envs\\dsi\\lib\\site-packages\\sklearn\\feature_extraction\\text.py:300: UserWarning: Your stop_words may be inconsistent with your preprocessing. Tokenizing the stop words generated tokens ['ha', 'le', 'u', 'wa'] not in stop_words.\n",
      "  'stop_words.' % sorted(inconsistent))\n"
     ]
    },
    {
     "name": "stdout",
     "output_type": "stream",
     "text": [
      "Training accuracy score for our Gaussian Naive Bayes model is: 0.9506.\n",
      "\n",
      "Testing accuracy score for our Gaussian Naive Bayes model is: 0.8598.\n"
     ]
    }
   ],
   "source": [
    "# Instantiate TFIDFVectorizer.\n",
    "tf = TfidfVectorizer(tokenizer = LemmaTokenizer(), max_features = 4470, ngram_range = (1,8), stop_words = 'english')\n",
    "\n",
    "# Fit vectorizer.\n",
    "tf.fit(X_train, y_train)\n",
    "\n",
    "# Transform training and testing sets.\n",
    "X_train_tf = tf.transform(X_train).todense()\n",
    "X_test_tf = tf.transform(X_test).todense()\n",
    "\n",
    "# Instantiate Gaussian Naive Bayes model.\n",
    "gnb = GaussianNB(var_smoothing = 0.63)\n",
    "\n",
    "# Fit model.\n",
    "gnb.fit(X_train_tf, y_train)\n",
    "\n",
    "# Evaluate predictions,\n",
    "print(f'Training accuracy score for our Gaussian Naive Bayes model is: {round(gnb.score(X_train_tf, y_train),4)}.')\n",
    "print()\n",
    "print(f'Testing accuracy score for our Gaussian Naive Bayes model is: {round(gnb.score(X_test_tf, y_test),4)}.')"
   ]
  },
  {
   "cell_type": "markdown",
   "metadata": {},
   "source": [
    "## 10. Model Selection"
   ]
  },
  {
   "cell_type": "code",
   "execution_count": null,
   "metadata": {},
   "outputs": [],
   "source": []
  },
  {
   "cell_type": "markdown",
   "metadata": {},
   "source": [
    "## 11. Model Evaluation"
   ]
  },
  {
   "cell_type": "code",
   "execution_count": null,
   "metadata": {},
   "outputs": [],
   "source": []
  },
  {
   "cell_type": "markdown",
   "metadata": {},
   "source": [
    "## 12. Conclusions and Evaluation"
   ]
  },
  {
   "cell_type": "code",
   "execution_count": null,
   "metadata": {},
   "outputs": [],
   "source": []
  }
 ],
 "metadata": {
  "kernelspec": {
   "display_name": "Python 3",
   "language": "python",
   "name": "python3"
  },
  "language_info": {
   "codemirror_mode": {
    "name": "ipython",
    "version": 3
   },
   "file_extension": ".py",
   "mimetype": "text/x-python",
   "name": "python",
   "nbconvert_exporter": "python",
   "pygments_lexer": "ipython3",
   "version": "3.7.5"
  }
 },
 "nbformat": 4,
 "nbformat_minor": 2
}
